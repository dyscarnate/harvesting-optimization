{
  "nbformat": 4,
  "nbformat_minor": 0,
  "metadata": {
    "colab": {
      "provenance": [],
      "collapsed_sections": [
        "juLqTCtUwXbL",
        "xfpYx5FiwY7C"
      ],
      "include_colab_link": true
    },
    "kernelspec": {
      "name": "python3",
      "display_name": "Python 3"
    },
    "language_info": {
      "name": "python"
    },
    "gpuClass": "standard"
  },
  "cells": [
    {
      "cell_type": "markdown",
      "metadata": {
        "id": "view-in-github",
        "colab_type": "text"
      },
      "source": [
        "<a href=\"https://colab.research.google.com/github/dyscarnate/harvesting-optimization/blob/main/%D0%9E%D0%BF%D1%82%D0%B8%D0%BC%D0%B8%D0%B7%D0%B0%D1%86%D0%B8%D1%8F_%D1%83%D0%B1%D0%BE%D1%80%D0%BA%D0%B8_%D1%83%D1%80%D0%BE%D0%B6%D0%B0%D1%8F_ipynb%22.ipynb\" target=\"_parent\"><img src=\"https://colab.research.google.com/assets/colab-badge.svg\" alt=\"Open In Colab\"/></a>"
      ]
    },
    {
      "cell_type": "markdown",
      "source": [
        "# Библиотеки"
      ],
      "metadata": {
        "id": "7lV89ogEvF2F"
      }
    },
    {
      "cell_type": "code",
      "source": [
        "from tensorflow.keras.models import Model, Sequential\n",
        "from tensorflow.keras.layers import Input, Conv2D, MaxPooling2D, Dense\n",
        "from tensorflow.keras.layers import BatchNormalization, Dropout, Flatten\n",
        "from tensorflow.keras.layers import UpSampling2D, Reshape, Conv2DTranspose\n",
        "from tensorflow.keras.layers import Multiply, AveragePooling2D\n",
        "from tensorflow.keras.layers import Concatenate, Activation, Add\n",
        "from tensorflow.keras.optimizers import Adam\n",
        "from tensorflow.keras import utils\n",
        "import numpy as np\n",
        "from PIL import Image\n",
        "import matplotlib.pyplot as plt"
      ],
      "metadata": {
        "id": "JJJkwY0Yu-f1"
      },
      "execution_count": null,
      "outputs": []
    },
    {
      "cell_type": "markdown",
      "source": [
        "# Уборка от \"поля\""
      ],
      "metadata": {
        "id": "5oJc2xfBUusT"
      }
    },
    {
      "cell_type": "code",
      "source": [
        "# поля\n",
        "import numpy as np\n",
        "import pandas as pd\n",
        "import random\n",
        "import math\n",
        "\n",
        "field = [\n",
        "    [ 0, 23,  4, 17, 36, 12],\n",
        "    [23,  0,  9, 32, 13, 27],\n",
        "    [ 4,  9,  0,  6,  8, 25],\n",
        "    [17, 32,  6,  0, 43, 56],\n",
        "    [36, 13,  8,  43, 0,  7],\n",
        "    [12, 27, 25,  56, 7,  0]\n",
        "]\n",
        "\n",
        "df = pd.DataFrame(data=field)\n",
        "df"
      ],
      "metadata": {
        "colab": {
          "base_uri": "https://localhost:8080/",
          "height": 238
        },
        "id": "sMDdWJLyUzSF",
        "outputId": "4e285042-68e8-45a2-abd5-392d798ecc3e"
      },
      "execution_count": null,
      "outputs": [
        {
          "output_type": "execute_result",
          "data": {
            "text/plain": [
              "    0   1   2   3   4   5\n",
              "0   0  23   4  17  36  12\n",
              "1  23   0   9  32  13  27\n",
              "2   4   9   0   6   8  25\n",
              "3  17  32   6   0  43  56\n",
              "4  36  13   8  43   0   7\n",
              "5  12  27  25  56   7   0"
            ],
            "text/html": [
              "\n",
              "  <div id=\"df-f6da9084-b2e1-4f1a-b610-a4115e3121d7\">\n",
              "    <div class=\"colab-df-container\">\n",
              "      <div>\n",
              "<style scoped>\n",
              "    .dataframe tbody tr th:only-of-type {\n",
              "        vertical-align: middle;\n",
              "    }\n",
              "\n",
              "    .dataframe tbody tr th {\n",
              "        vertical-align: top;\n",
              "    }\n",
              "\n",
              "    .dataframe thead th {\n",
              "        text-align: right;\n",
              "    }\n",
              "</style>\n",
              "<table border=\"1\" class=\"dataframe\">\n",
              "  <thead>\n",
              "    <tr style=\"text-align: right;\">\n",
              "      <th></th>\n",
              "      <th>0</th>\n",
              "      <th>1</th>\n",
              "      <th>2</th>\n",
              "      <th>3</th>\n",
              "      <th>4</th>\n",
              "      <th>5</th>\n",
              "    </tr>\n",
              "  </thead>\n",
              "  <tbody>\n",
              "    <tr>\n",
              "      <th>0</th>\n",
              "      <td>0</td>\n",
              "      <td>23</td>\n",
              "      <td>4</td>\n",
              "      <td>17</td>\n",
              "      <td>36</td>\n",
              "      <td>12</td>\n",
              "    </tr>\n",
              "    <tr>\n",
              "      <th>1</th>\n",
              "      <td>23</td>\n",
              "      <td>0</td>\n",
              "      <td>9</td>\n",
              "      <td>32</td>\n",
              "      <td>13</td>\n",
              "      <td>27</td>\n",
              "    </tr>\n",
              "    <tr>\n",
              "      <th>2</th>\n",
              "      <td>4</td>\n",
              "      <td>9</td>\n",
              "      <td>0</td>\n",
              "      <td>6</td>\n",
              "      <td>8</td>\n",
              "      <td>25</td>\n",
              "    </tr>\n",
              "    <tr>\n",
              "      <th>3</th>\n",
              "      <td>17</td>\n",
              "      <td>32</td>\n",
              "      <td>6</td>\n",
              "      <td>0</td>\n",
              "      <td>43</td>\n",
              "      <td>56</td>\n",
              "    </tr>\n",
              "    <tr>\n",
              "      <th>4</th>\n",
              "      <td>36</td>\n",
              "      <td>13</td>\n",
              "      <td>8</td>\n",
              "      <td>43</td>\n",
              "      <td>0</td>\n",
              "      <td>7</td>\n",
              "    </tr>\n",
              "    <tr>\n",
              "      <th>5</th>\n",
              "      <td>12</td>\n",
              "      <td>27</td>\n",
              "      <td>25</td>\n",
              "      <td>56</td>\n",
              "      <td>7</td>\n",
              "      <td>0</td>\n",
              "    </tr>\n",
              "  </tbody>\n",
              "</table>\n",
              "</div>\n",
              "      <button class=\"colab-df-convert\" onclick=\"convertToInteractive('df-f6da9084-b2e1-4f1a-b610-a4115e3121d7')\"\n",
              "              title=\"Convert this dataframe to an interactive table.\"\n",
              "              style=\"display:none;\">\n",
              "        \n",
              "  <svg xmlns=\"http://www.w3.org/2000/svg\" height=\"24px\"viewBox=\"0 0 24 24\"\n",
              "       width=\"24px\">\n",
              "    <path d=\"M0 0h24v24H0V0z\" fill=\"none\"/>\n",
              "    <path d=\"M18.56 5.44l.94 2.06.94-2.06 2.06-.94-2.06-.94-.94-2.06-.94 2.06-2.06.94zm-11 1L8.5 8.5l.94-2.06 2.06-.94-2.06-.94L8.5 2.5l-.94 2.06-2.06.94zm10 10l.94 2.06.94-2.06 2.06-.94-2.06-.94-.94-2.06-.94 2.06-2.06.94z\"/><path d=\"M17.41 7.96l-1.37-1.37c-.4-.4-.92-.59-1.43-.59-.52 0-1.04.2-1.43.59L10.3 9.45l-7.72 7.72c-.78.78-.78 2.05 0 2.83L4 21.41c.39.39.9.59 1.41.59.51 0 1.02-.2 1.41-.59l7.78-7.78 2.81-2.81c.8-.78.8-2.07 0-2.86zM5.41 20L4 18.59l7.72-7.72 1.47 1.35L5.41 20z\"/>\n",
              "  </svg>\n",
              "      </button>\n",
              "      \n",
              "  <style>\n",
              "    .colab-df-container {\n",
              "      display:flex;\n",
              "      flex-wrap:wrap;\n",
              "      gap: 12px;\n",
              "    }\n",
              "\n",
              "    .colab-df-convert {\n",
              "      background-color: #E8F0FE;\n",
              "      border: none;\n",
              "      border-radius: 50%;\n",
              "      cursor: pointer;\n",
              "      display: none;\n",
              "      fill: #1967D2;\n",
              "      height: 32px;\n",
              "      padding: 0 0 0 0;\n",
              "      width: 32px;\n",
              "    }\n",
              "\n",
              "    .colab-df-convert:hover {\n",
              "      background-color: #E2EBFA;\n",
              "      box-shadow: 0px 1px 2px rgba(60, 64, 67, 0.3), 0px 1px 3px 1px rgba(60, 64, 67, 0.15);\n",
              "      fill: #174EA6;\n",
              "    }\n",
              "\n",
              "    [theme=dark] .colab-df-convert {\n",
              "      background-color: #3B4455;\n",
              "      fill: #D2E3FC;\n",
              "    }\n",
              "\n",
              "    [theme=dark] .colab-df-convert:hover {\n",
              "      background-color: #434B5C;\n",
              "      box-shadow: 0px 1px 3px 1px rgba(0, 0, 0, 0.15);\n",
              "      filter: drop-shadow(0px 1px 2px rgba(0, 0, 0, 0.3));\n",
              "      fill: #FFFFFF;\n",
              "    }\n",
              "  </style>\n",
              "\n",
              "      <script>\n",
              "        const buttonEl =\n",
              "          document.querySelector('#df-f6da9084-b2e1-4f1a-b610-a4115e3121d7 button.colab-df-convert');\n",
              "        buttonEl.style.display =\n",
              "          google.colab.kernel.accessAllowed ? 'block' : 'none';\n",
              "\n",
              "        async function convertToInteractive(key) {\n",
              "          const element = document.querySelector('#df-f6da9084-b2e1-4f1a-b610-a4115e3121d7');\n",
              "          const dataTable =\n",
              "            await google.colab.kernel.invokeFunction('convertToInteractive',\n",
              "                                                     [key], {});\n",
              "          if (!dataTable) return;\n",
              "\n",
              "          const docLinkHtml = 'Like what you see? Visit the ' +\n",
              "            '<a target=\"_blank\" href=https://colab.research.google.com/notebooks/data_table.ipynb>data table notebook</a>'\n",
              "            + ' to learn more about interactive tables.';\n",
              "          element.innerHTML = '';\n",
              "          dataTable['output_type'] = 'display_data';\n",
              "          await google.colab.output.renderOutput(dataTable, element);\n",
              "          const docLink = document.createElement('div');\n",
              "          docLink.innerHTML = docLinkHtml;\n",
              "          element.appendChild(docLink);\n",
              "        }\n",
              "      </script>\n",
              "    </div>\n",
              "  </div>\n",
              "  "
            ]
          },
          "metadata": {},
          "execution_count": 10
        }
      ]
    },
    {
      "cell_type": "code",
      "source": [
        "# длина бота исходя из условий задачи\n",
        "LEN_BOT = sum(df.shape) - 1\n",
        "LEN_BEST = 5\n",
        "LEN_POPUL = (LEN_BEST + math.comb(LEN_BEST, 2)) * 2 + LEN_BEST\n",
        "MUT_PERCENT = 0.3\n",
        "EPOCHS = 30\n",
        "\n",
        "print(LEN_POPUL)\n",
        "# пример бота\n",
        "b = [0, 1, 0, 2, 0, 3, 0, 4, 0, 5, 0]"
      ],
      "metadata": {
        "id": "t4TyWsIIXoKq",
        "colab": {
          "base_uri": "https://localhost:8080/"
        },
        "outputId": "8e54315f-f246-4937-e8e8-525790344e3c"
      },
      "execution_count": null,
      "outputs": [
        {
          "output_type": "stream",
          "name": "stdout",
          "text": [
            "35\n"
          ]
        }
      ]
    },
    {
      "cell_type": "code",
      "source": [
        "# функция оценки\n",
        "def loss(bot):\n",
        "    S = 0\n",
        "    for i in range(1,6):\n",
        "        if bot.count(i) == 0:\n",
        "            S += 40_000\n",
        "        elif bot.count(i) != 1:\n",
        "            S += 10_000 * 2**bot.count(i)\n",
        "    \n",
        "    if bot[0] != 0: S += 20_000\n",
        "    if bot[-1] != 0: S += 20_000\n",
        "\n",
        "    koord = [bot[i:i+2] for i in range(len(bot)-1)]\n",
        "    for i in koord:\n",
        "        S += df.iloc[i[0], i[1]]\n",
        "    return S \n",
        "\n",
        "# новый бот\n",
        "def new_bot(LEN_BOT):\n",
        "  bot = []\n",
        "  for i in range(LEN_BOT):\n",
        "    bot.append(random.randint(0,5))\n",
        "  return bot\n",
        "\n",
        "# скрещивание\n",
        "def hrest(bot1, bot2):\n",
        "  child1 = bot1[:5] + bot2[5:]\n",
        "  child2 = bot2[:5] + bot1[5:]\n",
        "  return [child1, child2]\n",
        "\n",
        "# мутация\n",
        "def mutation(bot, MUT_PERCENT = 0.3):\n",
        "  count_mut_idx = int(round(len(bot)*MUT_PERCENT, 0))\n",
        "  mut_idx = random.sample(range(len(bot)), k = count_mut_idx)\n",
        "  for i in mut_idx:\n",
        "    bot[i] = random.randint(0,5)\n",
        "  return bot"
      ],
      "metadata": {
        "id": "WhkZuJXwX8K5"
      },
      "execution_count": null,
      "outputs": []
    },
    {
      "cell_type": "code",
      "source": [
        "popul = []\n",
        "best = ()\n",
        "for i in range(LEN_POPUL):\n",
        "    popul.append(new_bot(LEN_BOT))\n",
        "\n",
        "for ep in range(EPOCHS):\n",
        "\n",
        "  # мутация\n",
        "    for i in range(len(popul)):\n",
        "        popul.append(mutation(popul[i], MUT_PERCENT))\n",
        "\n",
        "  # оценка популяции\n",
        "    old_popul = []\n",
        "    for bot in popul:\n",
        "        old_popul.append([bot, loss(bot)])\n",
        "\n",
        "  # сортировка популяции\n",
        "    old_popul.sort(key = lambda x: x[1])\n",
        "    best = (ep, old_popul[0][1], old_popul[0][0])\n",
        "    print(best)\n",
        "\n",
        "  # отбор лучших\n",
        "    popul = []\n",
        "    for i in range(LEN_BEST):\n",
        "        popul.append(old_popul[i][0])\n",
        "\n",
        "  # скрещивание\n",
        "    for m in range(LEN_POPUL):\n",
        "        for p in range(LEN_POPUL):\n",
        "            popul += hrest(popul[m], popul[p])\n",
        "\n",
        "\n",
        "    \n",
        "print(f'\\n\\n\\n diagram:\\n{best[2]} \\n\\n len path:\\n{best[1]}')"
      ],
      "metadata": {
        "colab": {
          "base_uri": "https://localhost:8080/"
        },
        "id": "NSt7fsRAbS12",
        "outputId": "37cd459c-3d0e-4b8e-afef-9ad67d3af777"
      },
      "execution_count": null,
      "outputs": [
        {
          "output_type": "stream",
          "name": "stdout",
          "text": [
            "(0, 100148, [0, 5, 0, 0, 0, 0, 3, 1, 5, 0, 4])\n",
            "(1, 20108, [0, 5, 0, 0, 0, 0, 3, 1, 0, 2, 4])\n",
            "(2, 166, [0, 5, 0, 0, 0, 4, 3, 1, 0, 2, 0])\n",
            "(3, 126, [0, 5, 0, 0, 0, 0, 3, 1, 2, 4, 0])\n",
            "(4, 98, [0, 5, 0, 0, 0, 0, 3, 1, 4, 2, 0])\n",
            "(5, 98, [0, 5, 0, 0, 0, 0, 3, 1, 4, 2, 0])\n",
            "(6, 98, [0, 0, 5, 0, 0, 0, 3, 1, 4, 2, 0])\n",
            "(7, 98, [0, 5, 0, 0, 0, 0, 3, 1, 4, 2, 0])\n",
            "(8, 91, [0, 0, 5, 0, 0, 0, 3, 2, 4, 1, 0])\n",
            "(9, 91, [0, 0, 5, 0, 0, 0, 3, 2, 4, 1, 0])\n",
            "(10, 91, [0, 0, 5, 0, 0, 0, 3, 2, 4, 1, 0])\n",
            "(11, 91, [0, 0, 5, 0, 0, 0, 3, 2, 4, 1, 0])\n",
            "(12, 89, [0, 0, 2, 0, 0, 0, 3, 1, 4, 5, 0])\n",
            "(13, 79, [0, 0, 3, 0, 0, 0, 2, 1, 4, 5, 0])\n",
            "(14, 64, [0, 0, 0, 0, 0, 3, 2, 1, 4, 5, 0])\n",
            "(15, 64, [0, 0, 0, 0, 0, 3, 2, 1, 4, 5, 0])\n",
            "(16, 64, [0, 0, 0, 0, 0, 3, 2, 1, 4, 5, 0])\n",
            "(17, 64, [0, 0, 0, 0, 0, 3, 2, 1, 4, 5, 0])\n",
            "(18, 64, [0, 0, 0, 0, 0, 3, 2, 1, 4, 5, 0])\n",
            "(19, 64, [0, 0, 0, 0, 0, 3, 2, 1, 4, 5, 0])\n",
            "(20, 64, [0, 0, 0, 0, 0, 3, 2, 1, 4, 5, 0])\n",
            "(21, 64, [0, 0, 0, 0, 0, 3, 2, 1, 4, 5, 0])\n",
            "(22, 64, [0, 0, 0, 0, 0, 3, 2, 1, 4, 5, 0])\n",
            "(23, 64, [0, 0, 0, 0, 0, 3, 2, 1, 4, 5, 0])\n",
            "(24, 64, [0, 0, 0, 0, 0, 3, 2, 1, 4, 5, 0])\n",
            "(25, 64, [0, 0, 0, 0, 0, 3, 2, 1, 4, 5, 0])\n",
            "(26, 64, [0, 0, 0, 0, 0, 3, 2, 1, 4, 5, 0])\n",
            "(27, 64, [0, 0, 0, 0, 0, 3, 2, 1, 4, 5, 0])\n",
            "(28, 64, [0, 0, 0, 0, 0, 3, 2, 1, 4, 5, 0])\n",
            "(29, 64, [0, 0, 0, 0, 0, 3, 2, 1, 4, 5, 0])\n",
            "\n",
            "\n",
            "\n",
            " diagram:\n",
            "[0, 0, 0, 0, 0, 3, 2, 1, 4, 5, 0] \n",
            "\n",
            " len path:\n",
            "64\n"
          ]
        }
      ]
    }
  ]
}